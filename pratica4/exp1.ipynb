{
  "cells": [
    {
      "cell_type": "code",
      "execution_count": 1,
      "metadata": {
        "id": "7Bdhz93t0iVc"
      },
      "outputs": [],
      "source": [
        "import numpy as np"
      ]
    },
    {
      "cell_type": "code",
      "execution_count": 7,
      "metadata": {},
      "outputs": [
        {
          "data": {
            "text/plain": [
              "44.60000000000002"
            ]
          },
          "execution_count": 7,
          "metadata": {},
          "output_type": "execute_result"
        }
      ],
      "source": [
        "360 -np.mean(np.array([316, 315, 315, 316, 315]))"
      ]
    },
    {
      "cell_type": "code",
      "execution_count": 3,
      "metadata": {
        "id": "ryJLKr7mKDf5"
      },
      "outputs": [],
      "source": [
        "alpha = np.deg2rad(np.array([57,57, 58, 57, 58]))\n",
        "beta = np.deg2rad(360 -  np.array([316, 315, 315, 316, 315]))\n",
        "\n",
        "delta_transferidor = 1\n",
        "\n",
        "g = 9.79\n",
        "\n",
        "#em gramas\n",
        "m1_exp = 47.54\n",
        "m2_exp = 66.22\n",
        "m3_exp = 57.03\n",
        "delta_m = 0.01\n"
      ]
    },
    {
      "cell_type": "code",
      "execution_count": 4,
      "metadata": {},
      "outputs": [
        {
          "name": "stdout",
          "output_type": "stream",
          "text": [
            "m1 = 47.541156589607986 +- 0.6252739966463674\n"
          ]
        }
      ],
      "source": [
        "m1 = m2_exp/(np.cos(alpha)+np.sin(alpha)/np.tan(beta))\n",
        "\n",
        "print('m1 = '+  str(np.mean(m1)) + ' +- ' + str(np.std(m1, ddof=1)))"
      ]
    },
    {
      "cell_type": "code",
      "execution_count": 5,
      "metadata": {
        "colab": {
          "base_uri": "https://localhost:8080/"
        },
        "id": "XgEJ8nE_RKSz",
        "outputId": "7b10bd60-8b5b-4e53-fb67-bf2bc3a7c173"
      },
      "outputs": [
        {
          "name": "stdout",
          "output_type": "stream",
          "text": [
            "m3 = 57.039959476230834 +- 0.5493058022355143\n"
          ]
        }
      ],
      "source": [
        "#m3 = m1*np.sin(alpha)/np.sin(beta)\n",
        "m3 = m2_exp * np.sin(alpha)/(np.sin(beta + alpha))\n",
        "\n",
        "print('m3 = '+  str(np.mean(m3)) + ' +- ' + str(np.std(m3, ddof=1)))"
      ]
    },
    {
      "cell_type": "code",
      "execution_count": 6,
      "metadata": {
        "colab": {
          "base_uri": "https://localhost:8080/"
        },
        "id": "Hh3W7lrEQQ3L",
        "outputId": "c87ad9de-7212-4604-9faf-b5f9206215c6"
      },
      "outputs": [
        {
          "name": "stdout",
          "output_type": "stream",
          "text": [
            "T_1 = 0.4654279230122622 +- 0.006121432427167941\n",
            "T_3 = 0.5584212032722999 +- 0.005377703803885736\n"
          ]
        }
      ],
      "source": [
        "#em N\n",
        "\n",
        "T_1 = m1*g*1e-3\n",
        "T_3 = m3*g*1e-3\n",
        "\n",
        "print('T_1 = ' + str(np.mean(T_1)) + ' +- ' + str(np.std(T_1, ddof=1)))\n",
        "print('T_3 = ' + str(np.mean(T_3)) + ' +- ' + str(np.std(T_3, ddof=1)))"
      ]
    }
  ],
  "metadata": {
    "colab": {
      "authorship_tag": "ABX9TyOfUSbvGUD1zSyf3u8zo82s",
      "provenance": []
    },
    "kernelspec": {
      "display_name": "Python 3",
      "name": "python3"
    },
    "language_info": {
      "codemirror_mode": {
        "name": "ipython",
        "version": 3
      },
      "file_extension": ".py",
      "mimetype": "text/x-python",
      "name": "python",
      "nbconvert_exporter": "python",
      "pygments_lexer": "ipython3",
      "version": "3.10.12"
    }
  },
  "nbformat": 4,
  "nbformat_minor": 0
}
