{
  "cells": [
    {
      "cell_type": "code",
      "execution_count": 28,
      "metadata": {
        "id": "254wLbcST5r1"
      },
      "outputs": [],
      "source": [
        "import numpy as np\n",
        "\n",
        "g = 9.79"
      ]
    },
    {
      "cell_type": "code",
      "execution_count": 29,
      "metadata": {
        "colab": {
          "base_uri": "https://localhost:8080/"
        },
        "id": "fYRzg3plT8oG",
        "outputId": "03190b00-3772-40a4-95ab-420b7e8bb3d6"
      },
      "outputs": [
        {
          "name": "stdout",
          "output_type": "stream",
          "text": [
            "massa = 905.8799999999999 +- 98.12439553953953\n",
            "T = 8.868565199999997 +- 0.960637832332092\n"
          ]
        }
      ],
      "source": [
        "#método 1\n",
        "\n",
        "#em gramas\n",
        "massa = np.array([1061.4, 871.3, 849.9, 810.6, 936.2])\n",
        "menor_massa = 49,98\n",
        "delta_m = 0.1\n",
        "\n",
        "massa_med = np.mean(massa)\n",
        "delta_massa_med = np.std(massa)\n",
        "\n",
        "massa_med*g*1e-3\n",
        "\n",
        "print('massa = '+  str(np.mean(massa)) + ' +- ' + str(np.std(massa, ddof=1)))\n",
        "print('T = '+  str(np.mean(massa)*g*1e-3) + ' +- ' + str(np.std(massa, ddof=1)*g*1e-3))"
      ]
    },
    {
      "cell_type": "code",
      "execution_count": 30,
      "metadata": {
        "colab": {
          "base_uri": "https://localhost:8080/"
        },
        "id": "bToeJsrXq1um",
        "outputId": "975ee7f6-18e6-45cf-9a65-3f48a82ac958"
      },
      "outputs": [
        {
          "name": "stdout",
          "output_type": "stream",
          "text": [
            "T = 8.24175156819771 +- 0.45300902857146313\n"
          ]
        }
      ],
      "source": [
        "#método 2\n",
        "\n",
        "#em gramas\n",
        "m = 850.3\n",
        "\n",
        "#em cm\n",
        "L = np.array([18.5, 24.6, 16.7, 22.8, 20.1])\n",
        "CB = np.array([19.6, 25.0, 16.3, 24.4, 18.9])\n",
        "\n",
        "T = m*g*L/CB *1e-3\n",
        "\n",
        "print('T = '+  str(np.mean(T)) + ' +- ' + str(np.std(T, ddof=1)))"
      ]
    },
    {
      "cell_type": "code",
      "execution_count": null,
      "metadata": {},
      "outputs": [],
      "source": []
    }
  ],
  "metadata": {
    "colab": {
      "authorship_tag": "ABX9TyN7l4/A93Nsfj6/GVVQ64d2",
      "provenance": []
    },
    "kernelspec": {
      "display_name": "Python 3",
      "name": "python3"
    },
    "language_info": {
      "codemirror_mode": {
        "name": "ipython",
        "version": 3
      },
      "file_extension": ".py",
      "mimetype": "text/x-python",
      "name": "python",
      "nbconvert_exporter": "python",
      "pygments_lexer": "ipython3",
      "version": "3.10.12"
    }
  },
  "nbformat": 4,
  "nbformat_minor": 0
}
