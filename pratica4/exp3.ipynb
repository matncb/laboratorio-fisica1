{
  "cells": [
    {
      "cell_type": "code",
      "execution_count": 133,
      "metadata": {
        "id": "dEOtxkGxYJQ6"
      },
      "outputs": [],
      "source": [
        "import numpy as np"
      ]
    },
    {
      "cell_type": "code",
      "execution_count": 134,
      "metadata": {
        "id": "MhKSGcbxYMlk"
      },
      "outputs": [],
      "source": [
        "theta_s1 = [11,11, 12, 10, 10, 11, 10, 11, 11, 10, 11, 11]\n",
        "theta_s2 = [29, 28, 28, 26, 27, 27, 29, 27, 28, 28, 29, 29]\n",
        "\n",
        "delta_transferidor = 1"
      ]
    },
    {
      "cell_type": "code",
      "execution_count": 135,
      "metadata": {
        "colab": {
          "base_uri": "https://localhost:8080/"
        },
        "id": "yX6yQfeToh8J",
        "outputId": "ed04b4d2-44a2-48a9-b2a9-3a5733a94b19"
      },
      "outputs": [
        {
          "name": "stdout",
          "output_type": "stream",
          "text": [
            "mu_s1 = 0.18987722070565927 +- 0.011244122345364189\n"
          ]
        },
        {
          "data": {
            "text/plain": [
              "0.01809798162397152"
            ]
          },
          "execution_count": 135,
          "metadata": {},
          "output_type": "execute_result"
        }
      ],
      "source": [
        "mu_s1 = np.tan(np.deg2rad(theta_s1))\n",
        "\n",
        "print('mu_s1 = '+  str(np.mean(mu_s1)) + ' +- ' + str(np.std(mu_s1, ddof=1)))\n",
        "\n",
        "np.cos(np.mean(mu_s1))**-2 *np.deg2rad(1)"
      ]
    },
    {
      "cell_type": "code",
      "execution_count": 136,
      "metadata": {
        "colab": {
          "base_uri": "https://localhost:8080/"
        },
        "id": "Ia0aPDplpK0i",
        "outputId": "a3d09367-b351-4511-c11c-3b1d187f5333"
      },
      "outputs": [
        {
          "name": "stdout",
          "output_type": "stream",
          "text": [
            "mu_s1 = 0.5300319057921783 +- 0.02219654368130718\n"
          ]
        },
        {
          "data": {
            "text/plain": [
              "0.023445862565992286"
            ]
          },
          "execution_count": 136,
          "metadata": {},
          "output_type": "execute_result"
        }
      ],
      "source": [
        "mu_s2 = np.tan(np.deg2rad(theta_s2))\n",
        "\n",
        "print('mu_s2 = '+  str(np.mean(mu_s2)) + ' +- ' + str(np.std(mu_s2, ddof=1)))\n",
        "\n",
        "np.cos(np.mean(mu_s2))**-2 *np.deg2rad(1)"
      ]
    },
    {
      "cell_type": "code",
      "execution_count": null,
      "metadata": {},
      "outputs": [],
      "source": []
    }
  ],
  "metadata": {
    "colab": {
      "authorship_tag": "ABX9TyO/dmoXvEWJVjIDPr3xy6Q4",
      "provenance": []
    },
    "kernelspec": {
      "display_name": "Python 3",
      "name": "python3"
    },
    "language_info": {
      "codemirror_mode": {
        "name": "ipython",
        "version": 3
      },
      "file_extension": ".py",
      "mimetype": "text/x-python",
      "name": "python",
      "nbconvert_exporter": "python",
      "pygments_lexer": "ipython3",
      "version": "3.10.12"
    }
  },
  "nbformat": 4,
  "nbformat_minor": 0
}
