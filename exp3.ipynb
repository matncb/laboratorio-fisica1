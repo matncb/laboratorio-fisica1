{
  "nbformat": 4,
  "nbformat_minor": 0,
  "metadata": {
    "colab": {
      "provenance": [],
      "authorship_tag": "ABX9TyO/dmoXvEWJVjIDPr3xy6Q4"
    },
    "kernelspec": {
      "name": "python3",
      "display_name": "Python 3"
    },
    "language_info": {
      "name": "python"
    }
  },
  "cells": [
    {
      "cell_type": "code",
      "execution_count": 2,
      "metadata": {
        "id": "dEOtxkGxYJQ6"
      },
      "outputs": [],
      "source": [
        "import numpy as np"
      ]
    },
    {
      "cell_type": "code",
      "source": [
        "theta_s1 = [11,11, 12, 10, 10, 11, 10, 11, 11, 10, 11, 11]\n",
        "theta_s2 = [29, 28, 28, 26, 27, 27, 29, 27, 28, 28, 29, 29]\n",
        "\n",
        "delta_transferidor = 1"
      ],
      "metadata": {
        "id": "MhKSGcbxYMlk"
      },
      "execution_count": 1,
      "outputs": []
    },
    {
      "cell_type": "code",
      "source": [
        "mu_s1 = np.tan(np.mean(np.deg2rad(theta_s1)))\n",
        "mu_s1"
      ],
      "metadata": {
        "colab": {
          "base_uri": "https://localhost:8080/"
        },
        "id": "yX6yQfeToh8J",
        "outputId": "ed04b4d2-44a2-48a9-b2a9-3a5733a94b19"
      },
      "execution_count": 7,
      "outputs": [
        {
          "output_type": "execute_result",
          "data": {
            "text/plain": [
              "0.1898559321066591"
            ]
          },
          "metadata": {},
          "execution_count": 7
        }
      ]
    },
    {
      "cell_type": "code",
      "source": [
        "mu_s2 = np.tan(np.mean(np.deg2rad(theta_s2)))\n",
        "mu_s2"
      ],
      "metadata": {
        "colab": {
          "base_uri": "https://localhost:8080/"
        },
        "id": "Ia0aPDplpK0i",
        "outputId": "a3d09367-b351-4511-c11c-3b1d187f5333"
      },
      "execution_count": 8,
      "outputs": [
        {
          "output_type": "execute_result",
          "data": {
            "text/plain": [
              "0.5298452387758118"
            ]
          },
          "metadata": {},
          "execution_count": 8
        }
      ]
    }
  ]
}