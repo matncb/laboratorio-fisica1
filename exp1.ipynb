{
  "nbformat": 4,
  "nbformat_minor": 0,
  "metadata": {
    "colab": {
      "provenance": [],
      "authorship_tag": "ABX9TyOfUSbvGUD1zSyf3u8zo82s"
    },
    "kernelspec": {
      "name": "python3",
      "display_name": "Python 3"
    },
    "language_info": {
      "name": "python"
    }
  },
  "cells": [
    {
      "cell_type": "code",
      "execution_count": 1,
      "metadata": {
        "id": "7Bdhz93t0iVc"
      },
      "outputs": [],
      "source": [
        "import numpy as np"
      ]
    },
    {
      "cell_type": "code",
      "source": [
        "alpha = np.deg2rad(np.array([57,57, 57, 57, 57]))\n",
        "beta = np.deg2rad(360 -  np.array([316, 315, 315, 316, 315]))\n",
        "\n",
        "\n",
        "delta_transferidor = 1\n",
        "\n",
        "#em gramas\n",
        "m1_exp = 47.54\n",
        "m2_exp = 66.22\n",
        "m3_exp = 57.03\n",
        "delta_m = 0.01\n",
        "\n"
      ],
      "metadata": {
        "id": "ryJLKr7mKDf5"
      },
      "execution_count": 17,
      "outputs": []
    },
    {
      "cell_type": "code",
      "source": [
        "m3 = m1_exp*np.sin(alpha)/np.sin(beta)\n",
        "m3"
      ],
      "metadata": {
        "colab": {
          "base_uri": "https://localhost:8080/"
        },
        "id": "XgEJ8nE_RKSz",
        "outputId": "7b10bd60-8b5b-4e53-fb67-bf2bc3a7c173"
      },
      "execution_count": 21,
      "outputs": [
        {
          "output_type": "execute_result",
          "data": {
            "text/plain": [
              "array([57.39569333, 56.38525872, 56.38525872, 57.39569333, 56.38525872])"
            ]
          },
          "metadata": {},
          "execution_count": 21
        }
      ]
    },
    {
      "cell_type": "code",
      "source": [
        "m1 = m2_exp/(np.cos(alpha)+np.sin(alpha)/np.tan(beta))\n",
        "m1"
      ],
      "metadata": {
        "colab": {
          "base_uri": "https://localhost:8080/"
        },
        "id": "Hh3W7lrEQQ3L",
        "outputId": "c87ad9de-7212-4604-9faf-b5f9206215c6"
      },
      "execution_count": 22,
      "outputs": [
        {
          "output_type": "execute_result",
          "data": {
            "text/plain": [
              "array([46.86125045, 47.87070072, 47.87070072, 46.86125045, 47.87070072])"
            ]
          },
          "metadata": {},
          "execution_count": 22
        }
      ]
    }
  ]
}