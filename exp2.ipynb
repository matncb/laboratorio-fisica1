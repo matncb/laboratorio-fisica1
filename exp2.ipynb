{
  "nbformat": 4,
  "nbformat_minor": 0,
  "metadata": {
    "colab": {
      "provenance": [],
      "authorship_tag": "ABX9TyN7l4/A93Nsfj6/GVVQ64d2"
    },
    "kernelspec": {
      "name": "python3",
      "display_name": "Python 3"
    },
    "language_info": {
      "name": "python"
    }
  },
  "cells": [
    {
      "cell_type": "code",
      "execution_count": 1,
      "metadata": {
        "id": "254wLbcST5r1"
      },
      "outputs": [],
      "source": [
        "import numpy as np\n",
        "\n",
        "g = 9.79"
      ]
    },
    {
      "cell_type": "code",
      "source": [
        "#método 1\n",
        "\n",
        "#em gramas\n",
        "massa = np.array([1061.4, 871.3, 849.9, 810.6, 936.2])\n",
        "menor_massa = 49,98\n",
        "delta_m = 0.1\n",
        "\n",
        "massa_med = np.mean(massa)\n",
        "delta_massa_med = np.std(massa)\n",
        "\n",
        "massa_med*g*1e-3"
      ],
      "metadata": {
        "colab": {
          "base_uri": "https://localhost:8080/"
        },
        "id": "fYRzg3plT8oG",
        "outputId": "03190b00-3772-40a4-95ab-420b7e8bb3d6"
      },
      "execution_count": 4,
      "outputs": [
        {
          "output_type": "execute_result",
          "data": {
            "text/plain": [
              "8.868565199999997"
            ]
          },
          "metadata": {},
          "execution_count": 4
        }
      ]
    },
    {
      "cell_type": "code",
      "source": [
        "#método 2\n",
        "\n",
        "#em gramas\n",
        "m = 850.3\n",
        "\n",
        "#em cm\n",
        "L = np.array([18.5, 24.6, 16.7, 22.8, 20.1])\n",
        "CB = np.array([19.6, 25.0, 16.3, 24.4, 18.9])\n",
        "\n",
        "T = m*g*L/CB *1e-3\n",
        "np.mean(T)"
      ],
      "metadata": {
        "colab": {
          "base_uri": "https://localhost:8080/"
        },
        "id": "bToeJsrXq1um",
        "outputId": "975ee7f6-18e6-45cf-9a65-3f48a82ac958"
      },
      "execution_count": 8,
      "outputs": [
        {
          "output_type": "execute_result",
          "data": {
            "text/plain": [
              "8.24175156819771"
            ]
          },
          "metadata": {},
          "execution_count": 8
        }
      ]
    },
    {
      "cell_type": "code",
      "source": [],
      "metadata": {
        "id": "GKl6s0wHqeRi"
      },
      "execution_count": null,
      "outputs": []
    }
  ]
}