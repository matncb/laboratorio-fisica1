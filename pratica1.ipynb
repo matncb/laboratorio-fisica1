{
 "cells": [
  {
   "cell_type": "code",
   "execution_count": 64,
   "metadata": {},
   "outputs": [],
   "source": [
    "import sympy as smp\n",
    "import numpy as np\n",
    "from scipy.optimize import  curve_fit\n",
    "\n",
    "import pandas as pd\n",
    "import matplotlib.pyplot as plt\n",
    "import scienceplots\n",
    "\n",
    "plt.style.use(['science', 'notebook', 'grid'])"
   ]
  },
  {
   "cell_type": "code",
   "execution_count": 65,
   "metadata": {},
   "outputs": [],
   "source": [
    "#declarando vars\n",
    "\n",
    "m, D, d, H, h= smp.symbols(r'M D d H h', real = True, positive = True)\n",
    "\n",
    "sigma_m, sigma_D, sigma_d, sigma_H, sigma_h= smp.symbols(r'\\sigma_m \\sigma_D \\sigma_d \\sigma_H \\sigma_h', real = True, positive = True)\n",
    "delta_m, delta_D, delta_d, delta_H, delta_h = smp.symbols(r'\\Delta{m} \\Delta{D} \\Delta{d} \\Delta{H} \\Delta{h}', real = True, positive = True)\n",
    "ro_V, ro_delta_V, ro_sigma_V = smp.symbols(r'V \\Delta{V} \\sigma_V',real=True,positive = True)"
   ]
  },
  {
   "cell_type": "code",
   "execution_count": 66,
   "metadata": {},
   "outputs": [],
   "source": [
    "#calculo volume\n",
    "\n",
    "V_g = smp.pi/4 *D**2*H\n",
    "V_p = smp.pi/4 *d**2*h\n",
    "\n",
    "V = V_g - V_p\n",
    "V_f = smp.lambdify((D,d, H,h), V)\n",
    "\n",
    "ro = m/ro_V\n",
    "ro_f = smp.lambdify((m, ro_V), ro)\n",
    "\n",
    "#ro = smp.Function(r'\\rho')(m,ro_V)\n",
    "#V = smp.Function('V')(D,d,H, h)"
   ]
  },
  {
   "cell_type": "code",
   "execution_count": 67,
   "metadata": {},
   "outputs": [],
   "source": [
    "#cálculo dos erros de forma simbólica\n",
    "\n",
    "delta_V = smp.Abs(smp.Derivative(V,D))*delta_D + smp.Abs(smp.Derivative(V,d))*delta_d + smp.Abs(smp.Derivative(V,H))*delta_H + smp.Abs(smp.Derivative(V,h))*delta_h\n",
    "#delta_V = smp.simplify(delta_V)\n",
    "delta_V\n",
    "\n",
    "sigma_V = smp.sqrt((smp.Derivative(V,D)*sigma_D)**2 + (smp.Derivative(V,d)*sigma_d)**2 + (smp.Derivative(V,H)*sigma_H)**2 + (smp.Derivative(V,h)*sigma_h)**2)\n",
    "sigma_V\n",
    "\n",
    "delta_ro = smp.Abs(smp.Derivative(ro,m))*delta_m + smp.Abs(smp.Derivative(ro,ro_V))*ro_delta_V\n",
    "sigma_ro = smp.sqrt((smp.Derivative(ro,m)*sigma_m)**2 + (smp.Derivative(ro,ro_V)*ro_sigma_V)**2)\n",
    "\n",
    "#smp.latex(sigma_ro)"
   ]
  },
  {
   "cell_type": "code",
   "execution_count": 68,
   "metadata": {},
   "outputs": [],
   "source": [
    "#simplificação\n",
    "delta_V = smp.simplify(smp.simplify(delta_V))\n",
    "sigma_V = smp.simplify(smp.simplify(sigma_V))\n",
    "\n",
    "delta_ro = smp.simplify(smp.simplify(delta_ro))\n",
    "sigma_ro = smp.simplify(smp.simplify(sigma_ro))\n",
    "\n",
    "#smp.latex(sigma_ro)"
   ]
  },
  {
   "cell_type": "code",
   "execution_count": 69,
   "metadata": {},
   "outputs": [],
   "source": [
    "#cálculo numérico\n",
    "\n",
    "V_delta_func = smp.lambdify((D,d,H,h,delta_D,delta_d,delta_H,delta_h),delta_V)\n",
    "V_sigma_func = smp.lambdify((D,d,H,h,sigma_D, sigma_d,sigma_H,sigma_h),sigma_V)\n",
    "\n",
    "ro_delta_func = smp.lambdify((m,ro_V,delta_m, ro_delta_V),delta_ro)\n",
    "ro_sigma_func = smp.lambdify((m,ro_V,sigma_m, ro_sigma_V),sigma_ro)\n"
   ]
  },
  {
   "cell_type": "code",
   "execution_count": 70,
   "metadata": {},
   "outputs": [],
   "source": [
    "#Dados obtidos\n",
    "m = 27.58\n",
    "err_m = 0.01\n",
    "\n",
    "D = 21.45\n",
    "d = 12.00\n",
    "H = 32.00\n",
    "h = 12.00\n",
    "\n",
    "delta_D = 0.05\n",
    "delta_d = 0.05\n",
    "delta_H = 0.05\n",
    "delta_h = 0.05\n",
    "\n",
    "sigma_D = 0.05\n",
    "sigma_d = 0.05\n",
    "sigma_H = 0.05\n",
    "sigma_h = 0.05\n"
   ]
  },
  {
   "cell_type": "code",
   "execution_count": 71,
   "metadata": {},
   "outputs": [
    {
     "name": "stdout",
     "output_type": "stream",
     "text": [
      "Volume: 10.20646904483559\n",
      "Delta 0.08894251318871448\n",
      "Sigma: 0.05824607975814671\n"
     ]
    }
   ],
   "source": [
    "#Volume\n",
    "V_ind = V_f(D,d,H,h)/1000\n",
    "V_ind_delta = V_delta_func(D,d,H,h,delta_D,delta_d,delta_H,delta_h)/1000\n",
    "V_ind_sigma = V_sigma_func(D,d,H,h,sigma_D, sigma_d,sigma_H,sigma_h)/1000\n",
    "\n",
    "print(\"Volume:\",V_ind )\n",
    "print(\"Delta\",V_ind_delta )\n",
    "print(\"Sigma:\",V_ind_sigma )"
   ]
  },
  {
   "cell_type": "code",
   "execution_count": 72,
   "metadata": {},
   "outputs": [
    {
     "name": "stdout",
     "output_type": "stream",
     "text": [
      "Volume: 10\n",
      "Err: 2\n"
     ]
    }
   ],
   "source": [
    "V_dir = 10\n",
    "V_dir_err = 2\n",
    "\n",
    "print(\"Volume:\",V_dir )\n",
    "print(\"Err:\",V_dir_err )"
   ]
  },
  {
   "cell_type": "code",
   "execution_count": 73,
   "metadata": {},
   "outputs": [
    {
     "name": "stdout",
     "output_type": "stream",
     "text": [
      "Ro indireto: 2.7022077741915367\n",
      "Ro delta indireto: 0.02452769410213894\n",
      "Ro sigma indireto: 0.023568297438996244\n",
      "\n",
      "Ro direto: 2.758\n",
      "Ro delta direto: 0.5526\n",
      "Ro sigma direto: 0.5516009064532074\n"
     ]
    }
   ],
   "source": [
    "#Densidade\n",
    "\n",
    "ro_ind = ro_f(m,V_ind)\n",
    "ro_ind_delta = ro_delta_func(m,V_ind,err_m, V_ind_delta)\n",
    "ro_ind_sigma =ro_sigma_func(m,V_ind,err_m, V_ind_delta)\n",
    "\n",
    "ro_dir = ro_f(m,V_dir)\n",
    "ro_dir_delta = ro_delta_func(m,V_dir,err_m, V_dir_err)\n",
    "ro_dir_sigma =ro_sigma_func(m,V_dir,err_m, V_dir_err)\n",
    "\n",
    "print(\"Ro indireto:\", ro_ind)\n",
    "print(\"Ro delta indireto:\", ro_ind_delta)\n",
    "print(\"Ro sigma indireto:\", ro_ind_sigma)\n",
    "print()\n",
    "print(\"Ro direto:\", ro_dir)\n",
    "print(\"Ro delta direto:\", ro_dir_delta)\n",
    "print(\"Ro sigma direto:\", ro_dir_sigma)"
   ]
  },
  {
   "cell_type": "code",
   "execution_count": 74,
   "metadata": {},
   "outputs": [
    {
     "name": "stdout",
     "output_type": "stream",
     "text": [
      "Medida: 1.4052631578947368\n",
      "Desvio padrão: 0.04766863926078725\n",
      "Desvio médio: 0.03772853185595565\n"
     ]
    }
   ],
   "source": [
    "#Fio\n",
    "\n",
    "medidas = np.array([1.39,1.40,1.43,1.36,1.37,1.37,1.37,1.47,1.39,1.44,1.47,1.54,1.37,1.44,1.38,1.36,1.38,1.39,1.38])\n",
    "\n",
    "medida = np.mean(medidas)\n",
    "sigma = np.std(medidas)\n",
    "\n",
    "desvio_medio = np.mean(np.abs(medidas - medida))\n",
    "desvio_medio\n",
    "\n",
    "print(\"Medida:\",medida)\n",
    "print(\"Desvio padrão:\",np.sqrt(sigma**2 + 0.01**2))\n",
    "print(\"Desvio médio:\", desvio_medio)"
   ]
  },
  {
   "cell_type": "code",
   "execution_count": 83,
   "metadata": {},
   "outputs": [
    {
     "data": {
      "text/plain": [
       "1.462"
      ]
     },
     "execution_count": 83,
     "metadata": {},
     "output_type": "execute_result"
    }
   ],
   "source": [
    "base = np.array([1.44,1.47,1.54, 1.47,1.39])\n",
    "ponta = np.array([1.39,1.40,1.43,1.36,1.37])\n",
    "\n",
    "np.mean(base)\n",
    "#np.std(base)"
   ]
  },
  {
   "cell_type": "code",
   "execution_count": 84,
   "metadata": {},
   "outputs": [
    {
     "data": {
      "text/plain": [
       "array([-0.01526316, -0.00526316,  0.02473684, -0.04526316, -0.03526316,\n",
       "       -0.03526316, -0.03526316,  0.06473684, -0.01526316,  0.03473684,\n",
       "        0.06473684,  0.13473684, -0.03526316,  0.03473684, -0.02526316,\n",
       "       -0.04526316, -0.02526316, -0.01526316, -0.02526316])"
      ]
     },
     "execution_count": 84,
     "metadata": {},
     "output_type": "execute_result"
    }
   ],
   "source": [
    "medidas - medida"
   ]
  },
  {
   "cell_type": "code",
   "execution_count": null,
   "metadata": {},
   "outputs": [],
   "source": []
  }
 ],
 "metadata": {
  "kernelspec": {
   "display_name": "Python 3",
   "language": "python",
   "name": "python3"
  },
  "language_info": {
   "codemirror_mode": {
    "name": "ipython",
    "version": 3
   },
   "file_extension": ".py",
   "mimetype": "text/x-python",
   "name": "python",
   "nbconvert_exporter": "python",
   "pygments_lexer": "ipython3",
   "version": "3.10.12"
  }
 },
 "nbformat": 4,
 "nbformat_minor": 2
}
