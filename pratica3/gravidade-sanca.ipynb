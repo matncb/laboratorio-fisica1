{
  "cells": [
    {
      "cell_type": "code",
      "execution_count": null,
      "metadata": {
        "id": "cCf-HSN3NCNT",
        "outputId": "0b4ed471-5774-4f8f-cf94-2980b3869a98"
      },
      "outputs": [
        {
          "data": {
            "text/plain": [
              "9.791674294252763"
            ]
          },
          "execution_count": 16,
          "metadata": {},
          "output_type": "execute_result"
        }
      ],
      "source": [
        "import numpy as np\n",
        "latitude = 22\n",
        "\n",
        "#teste 2\n",
        "\n",
        "G = 6.67384*1e-11\n",
        "M = 5.9742*1e24\n",
        "R = 6.371*1e6\n",
        "\n",
        "omega = 2*np.pi/(24*60*60)\n",
        "\n",
        "r =R*np.cos(latitude*np.pi/180)\n",
        "\n",
        "g = G*M/(R**2) - omega**2 * r\n",
        "g"
      ]
    },
    {
      "cell_type": "code",
      "execution_count": null,
      "metadata": {
        "id": "6oaXiBY4NCNY"
      },
      "outputs": [],
      "source": []
    }
  ],
  "metadata": {
    "kernelspec": {
      "display_name": "Python 3",
      "language": "python",
      "name": "python3"
    },
    "language_info": {
      "codemirror_mode": {
        "name": "ipython",
        "version": 3
      },
      "file_extension": ".py",
      "mimetype": "text/x-python",
      "name": "python",
      "nbconvert_exporter": "python",
      "pygments_lexer": "ipython3",
      "version": "3.10.12"
    },
    "colab": {
      "provenance": []
    }
  },
  "nbformat": 4,
  "nbformat_minor": 0
}